{
 "cells": [
  {
   "cell_type": "code",
   "execution_count": 3,
   "metadata": {},
   "outputs": [],
   "source": [
    "import pandas as pd\n",
    "import numpy as np\n",
    "import matplotlib.pyplot as plt\n",
    "import seaborn as sns\n",
    "\n",
    "import re\n",
    "\n",
    "import pickle\n",
    "\n",
    "from collections import Counter\n",
    "\n",
    "import nltk\n",
    "from nltk.tokenize import word_tokenize, WordPunctTokenizer, sent_tokenize\n",
    "from nltk.corpus import stopwords\n",
    "from nltk.stem import WordNetLemmatizer\n",
    "from nltk.tag import pos_tag\n",
    "\n",
    "import string\n",
    "\n",
    "from sklearn import model_selection, linear_model, naive_bayes, metrics, svm\n",
    "from sklearn.preprocessing import StandardScaler\n",
    "from sklearn.feature_extraction.text import TfidfVectorizer, CountVectorizer, ENGLISH_STOP_WORDS\n",
    "from sklearn.naive_bayes import MultinomialNB\n",
    "from sklearn.linear_model import LogisticRegression\n",
    "from sklearn.svm import SVC\n",
    "from sklearn.pipeline import make_pipeline\n",
    "from sklearn.dummy import DummyClassifier\n",
    "from sklearn.ensemble import RandomForestClassifier\n",
    "from sklearn.metrics import accuracy_score, f1_score\n",
    "from sklearn.neural_network import MLPClassifier\n",
    "\n",
    "from scipy.sparse import hstack, vstack"
   ]
  },
  {
   "cell_type": "markdown",
   "metadata": {},
   "source": [
    "### Open data\n",
    "- train: Training data with labels\n",
    "- test: Test data without labels\n",
    "- rating: Concreteness ratings for 40,000 English lemma words\n",
    "- aoa: Age of Acquisition estimates for about 51,000 English words\n",
    "- dale: Dale Chall 3000 words, which are considered basic English words"
   ]
  },
  {
   "cell_type": "code",
   "execution_count": 7,
   "metadata": {},
   "outputs": [],
   "source": [
    "train = pd.read_csv('data/WikiLarge_Train.csv')\n",
    "test = pd.read_csv('data/WikiLarge_Test.csv')\n",
    "rating = pd.read_csv('data/Concreteness_ratings_Brysbaert_et_al_BRM.txt', sep = '\\t')\n",
    "aoa = pd.read_csv('data/AoA_51715_words.csv', encoding='latin1')"
   ]
  },
  {
   "cell_type": "code",
   "execution_count": 8,
   "metadata": {},
   "outputs": [],
   "source": [
    "with open('data/dale_chall.txt') as f:\n",
    "    dale = set([l.strip() for l in list(f)])"
   ]
  },
  {
   "cell_type": "markdown",
   "metadata": {},
   "source": [
    "### Split train data into train, dev, test "
   ]
  },
  {
   "cell_type": "code",
   "execution_count": 9,
   "metadata": {},
   "outputs": [],
   "source": [
    "def train_dev_test(df):\n",
    "    train_df, dev_df, test_df =\\\n",
    "    np.split(train.sample(frac=1, random_state=695), [int(.7*len(train)), int(.9*len(train))])\n",
    "    return train_df, dev_df, test_df"
   ]
  },
  {
   "cell_type": "code",
   "execution_count": 10,
   "metadata": {},
   "outputs": [],
   "source": [
    "train_df, dev_df, test_df = train_dev_test(train)"
   ]
  },
  {
   "cell_type": "code",
   "execution_count": 11,
   "metadata": {},
   "outputs": [],
   "source": [
    "train_df.reset_index(drop = True, inplace = True)\n",
    "dev_df.reset_index(drop = True, inplace = True)\n",
    "test_df.reset_index(drop = True, inplace = True)"
   ]
  },
  {
   "cell_type": "markdown",
   "metadata": {},
   "source": [
    "### Prepare data and get features for prediction models"
   ]
  },
  {
   "cell_type": "code",
   "execution_count": 12,
   "metadata": {},
   "outputs": [],
   "source": [
    "#nltk.download('stopwords')\n",
    "stop = set(stopwords.words('english') + list(string.punctuation))"
   ]
  },
  {
   "cell_type": "code",
   "execution_count": 15,
   "metadata": {},
   "outputs": [],
   "source": [
    "def word_count_tokenize(df):\n",
    "    #word tokenize\n",
    "    df['words'] = df['original_text'].str.split()\n",
    "    \n",
    "    #word count\n",
    "    df['word_count'] = df['words'].str.len()\n",
    "    \n",
    "    #word punct tokenize\n",
    "    df['word_punct'] = df['original_text'].apply(WordPunctTokenizer().tokenize)\n",
    "    \n",
    "    #sent tokenize\n",
    "    df['sent_tokens'] = df['original_text'].apply(sent_tokenize)\n",
    "    \n",
    "    #word punct stopword removal\n",
    "    return df\n",
    "\n",
    "def get_clean_words(df):\n",
    "    df['clean_word_punct'] = df['word_punct'].copy()\n",
    "    df['clean_words'] = df['words'].copy()\n",
    "    for i in range(len(df)):\n",
    "        df.at[i,'clean_word_punct'] = [word for word in df.loc[i,'clean_word_punct'] if word not in stop]\n",
    "        df.at[i,'clean_words'] = [word for word in df.loc[i,'clean_words'] if word not in stop]\n",
    "    return df"
   ]
  },
  {
   "cell_type": "code",
   "execution_count": 16,
   "metadata": {},
   "outputs": [],
   "source": [
    "conc = list(rating[rating['Conc.M']<2.0]['Word'])\n",
    "percent_known = list(rating[rating['Percent_known']<0.92]['Word'])\n",
    "high_aoa = list(aoa[aoa['AoA_Kup_lem']>aoa['AoA_Kup_lem'].mean()]['Word'])"
   ]
  },
  {
   "cell_type": "code",
   "execution_count": 17,
   "metadata": {},
   "outputs": [],
   "source": [
    "def features(df):\n",
    "    for i in range(len(df)):\n",
    "        #num of dale words per words\n",
    "        df.at[i,'dale'] = \\\n",
    "        len(set(df.loc[i,'word_punct']) & set(dale))/max(1, len(set(df.loc[i,'word_punct'])))\n",
    "        \n",
    "        #word per sentence\n",
    "        df.at[i,'word_per_sent'] = df.loc[i,'word_count']\n",
    "        \n",
    "        #average char in word\n",
    "        df.at[i,'char_len'] = len(\"\".join(df.loc[i,'words']))/max(1,len(df.loc[i,'words']))\n",
    "                                  \n",
    "        #concreteness\n",
    "        df.at[i, 'conc'] = \\\n",
    "        len(set(df.loc[i,'clean_word_punct']) & set(conc))/max(1, len(set(df.loc[i,'clean_word_punct'])))                          \n",
    "        \n",
    "        #concretness perc unknown\n",
    "        df.at[i, 'unknown_words'] = \\\n",
    "        len(set(df.loc[i,'clean_word_punct']) & set(percent_known))/max(1, len(set(df.loc[i,'clean_word_punct'])))\n",
    "        \n",
    "        #\n",
    "        df.at[i,'high_aoa'] = \\\n",
    "        len(set(df.loc[i,'clean_word_punct']) & set(high_aoa))/max(1, len(set(df.loc[i,'clean_word_punct'])))\n",
    "  \n",
    "    #num_commas\n",
    "    df['num_commas'] = df['original_text'].str.count(',')\n",
    "\n",
    "    return df\n",
    "    \n",
    "\n",
    "        "
   ]
  },
  {
   "cell_type": "code",
   "execution_count": 18,
   "metadata": {},
   "outputs": [],
   "source": [
    "def syllable_counter(df):\n",
    "    df['avg_syllable'] = 0.0\n",
    "    df['syllable_more_than_3'] = 0\n",
    "    for i in range(len(df)):\n",
    "        syllables = []\n",
    "        syllables_more3 = 0\n",
    "        syllables_1 = 0\n",
    "        syllables_2 = 0\n",
    "        syllables_3 = 0\n",
    "        words = df.loc[i,'clean_words']\n",
    "        for word in words:\n",
    "            count = len(re.findall('[aeiou]+', word))\n",
    "            if word.endswith('e'):\n",
    "                count -=1\n",
    "            if len(re.findall('[^lyaeiou]+ed$', word)) >0:\n",
    "                count -=1\n",
    "            if len(re.findall('[^lyaeiou]+es$', word)) >0:\n",
    "                count -=1\n",
    "            if len(re.findall('^[^aeiou]+y',word)) >0:\n",
    "                count +=1\n",
    "            if len(re.findall('[^aeiou]+y', word))>0:\n",
    "                count+=1\n",
    "            if count <=0:\n",
    "                count = 1\n",
    "            \n",
    "            \n",
    "            syl_count = count\n",
    "            syllables.append(syl_count)\n",
    "            \n",
    "            if syl_count > 3:\n",
    "                syllables_more3 += 1\n",
    "            if syl_count == 1:\n",
    "                syllables_1 += 1\n",
    "            if syl_count == 2:\n",
    "                syllables_2 += 2\n",
    "            if syl_count == 3:\n",
    "                syllables_3 += 3\n",
    "           \n",
    "            \n",
    "        df.at[i,'syllable_more_than_3'] = syllables_more3/max(1, df.loc[i,'word_count'])\n",
    "        df.at[i,'syllable_1'] = syllables_1/max(1, df.loc[i,'word_count'])\n",
    "        df.at[i,'syllable_2'] = syllables_2/max(1, df.loc[i,'word_count'])\n",
    "        df.at[i,'syllable_3'] = syllables_3/max(1, df.loc[i,'word_count'])\n",
    "        \n",
    "        if len(syllables) !=0:\n",
    "            df.at[i,'avg_syllable'] = np.average(syllables)\n",
    "        else:\n",
    "            df.at[i,'avg_syllable'] = 0\n",
    "        \n",
    "    return df"
   ]
  },
  {
   "cell_type": "code",
   "execution_count": 44,
   "metadata": {},
   "outputs": [],
   "source": [
    "def pos_count(df):\n",
    "    pccol = ['CC', 'CD', 'NNS', 'VBP', 'NN', 'RB', 'MD', 'VB', 'VBZ', 'VBD', 'VBG', 'IN', 'JJ',  'FW', 'WDT', \\\n",
    "     'RBR', 'PRP$', 'VBN', 'PRP', 'DT', 'JJS', 'RP', 'JJR', 'WRB',  'WP', 'NNP', 'WP$',\\\n",
    "     'PDT', 'RBS', \"''\", 'NNPS', 'SYM', 'EX','TO','UH']\n",
    "    \n",
    "    df = df.reindex(columns = list(df.columns) + pccol)\n",
    "    \n",
    "    for i in range(len(df)):\n",
    "        pt = pos_tag(df.loc[i,'clean_word_punct'])\n",
    "        dictpt = dict(pt)\n",
    "        dictpt = Counter(dictpt.values())\n",
    "        vl = []\n",
    "        for p in pccol:\n",
    "            if p in dictpt.keys():\n",
    "                vl.append(dictpt[p])\n",
    "            else:\n",
    "                vl.append(0)\n",
    "        df.loc[i, pccol] = vl        \n",
    "    return df"
   ]
  },
  {
   "cell_type": "code",
   "execution_count": 20,
   "metadata": {},
   "outputs": [],
   "source": [
    "def get_features(df):\n",
    "    df1 = word_count_tokenize(df)\n",
    "    df2 = get_clean_words(df1)\n",
    "    df3 = features(df2)\n",
    "    df4 = syllable_counter(df3)\n",
    "    df5 = pos_count(df4)\n",
    "    return df5"
   ]
  },
  {
   "cell_type": "code",
   "execution_count": 40,
   "metadata": {},
   "outputs": [],
   "source": [
    "train_df = get_features(train_df)"
   ]
  },
  {
   "cell_type": "markdown",
   "metadata": {},
   "source": [
    "### Get dev ready"
   ]
  },
  {
   "cell_type": "code",
   "execution_count": 46,
   "metadata": {},
   "outputs": [],
   "source": [
    "dev_df = get_features(dev_df)"
   ]
  },
  {
   "cell_type": "code",
   "execution_count": 47,
   "metadata": {},
   "outputs": [],
   "source": [
    "train_df.to_pickle('train_df.pkl')\n",
    "dev_df.to_pickle('dev_df.pkl')"
   ]
  },
  {
   "cell_type": "code",
   "execution_count": null,
   "metadata": {},
   "outputs": [],
   "source": [
    "#train_df = pd.read_pickle('train_df.pkl')\n",
    "#dev_df = pd.read_pickle('dev_df.pkl')"
   ]
  },
  {
   "cell_type": "code",
   "execution_count": 22,
   "metadata": {},
   "outputs": [],
   "source": [
    "#train_df.isnull().any()\n",
    "#dev_df.isnull().any()"
   ]
  },
  {
   "cell_type": "code",
   "execution_count": null,
   "metadata": {},
   "outputs": [],
   "source": [
    "#train_df.columns"
   ]
  },
  {
   "cell_type": "markdown",
   "metadata": {},
   "source": [
    "### Vectorizer\n",
    "- Tfidf vectorizer\n",
    "- Count vectorizer"
   ]
  },
  {
   "cell_type": "code",
   "execution_count": 50,
   "metadata": {},
   "outputs": [],
   "source": [
    "tfidf = TfidfVectorizer()\n",
    "tfidf_text = tfidf.fit_transform(train_df['original_text'])\n",
    "count = CountVectorizer()\n",
    "count_text = count.fit_transform(train_df['original_text'])\n",
    "dev_tfidf_text = tfidf.transform(dev_df['original_text'])\n",
    "dev_count_text = count.transform(dev_df['original_text'])"
   ]
  },
  {
   "cell_type": "code",
   "execution_count": 60,
   "metadata": {},
   "outputs": [],
   "source": [
    "feature_cols =['dale','word_per_sent', 'char_len', 'conc', 'unknown_words',\n",
    "       'high_aoa', 'num_commas', 'avg_syllable', 'syllable_more_than_3', 'CC',\n",
    "       'CD', 'NNS', 'VBP', 'NN', 'RB', 'MD', 'VB', 'VBZ', 'VBD', 'VBG', 'IN',\n",
    "       'JJ', 'FW', 'WDT', 'RBR', 'PRP$', 'VBN', 'PRP', 'DT', 'JJS', 'RP',\n",
    "       'JJR', 'WRB', 'WP', 'NNP', 'WP$', 'PDT', 'RBS', \"''\", 'NNPS', 'SYM',\n",
    "       'EX', 'TO', 'UH', 'syllable_1', 'syllable_2', 'syllable_3']\n",
    "\n",
    "def stack(df, text):\n",
    "    X = hstack([text, df[feature_cols]])\n",
    "    return X"
   ]
  },
  {
   "cell_type": "code",
   "execution_count": 53,
   "metadata": {},
   "outputs": [],
   "source": [
    "X_train_tfidf = stack(train_df, tfidf_text)\n",
    "X_train_count = stack(train_df, count_text)\n",
    "y_train = train_df['label']\n",
    "\n",
    "X_dev_tfidf = stack(dev_df, dev_tfidf_text)\n",
    "X_dev_count = stack(dev_df, dev_count_text)\n",
    "y_dev = dev_df['label']"
   ]
  },
  {
   "cell_type": "markdown",
   "metadata": {},
   "source": [
    "### Classifier\n",
    "- Logistic Regression\n",
    "- SVM\n",
    "- Random Forest "
   ]
  },
  {
   "cell_type": "code",
   "execution_count": 23,
   "metadata": {},
   "outputs": [],
   "source": [
    "dummy = DummyClassifier()\n",
    "lr = LogisticRegression(max_iter = 5000)\n",
    "svc = make_pipeline(StandardScaler(), SVC(kernel = 'linear', gamma = 'auto'))\n",
    "rfc = RandomForestClassifier()\n",
    "\n",
    "models = {'Dummy Classifier': dummy, 'Logistic Regression': lr, 'Support Vecter Machine':svc, 'Random Forest Classifier':rfc}"
   ]
  },
  {
   "cell_type": "code",
   "execution_count": null,
   "metadata": {},
   "outputs": [
    {
     "name": "stderr",
     "output_type": "stream",
     "text": [
      "/usr/local/linux/anaconda3.8/lib/python3.8/site-packages/sklearn/dummy.py:131: FutureWarning: The default value of strategy will change from stratified to prior in 0.24.\n",
      "  warnings.warn(\"The default value of strategy will change from \"\n"
     ]
    },
    {
     "name": "stdout",
     "output_type": "stream",
     "text": [
      "Accuracy of DummyClassifier(): 0.49889627372411643\n",
      "Accuracy of LogisticRegression(max_iter=5000): 0.6519063272308467\n"
     ]
    }
   ],
   "source": [
    "acc_df = pd.DataFrame()\n",
    "for name, clf in models.items():\n",
    "    clf.fit(train_df[feature_cols], train_df['label'])\n",
    "    y_pred = clf.predict(dev_df[feature_cols])\n",
    "    accuracy = accuracy_score(dev_df['label'], y_pred)\n",
    "    print(\"Accuracy of %s:\"%(clf), accuracy)\n",
    "    acc_df.loc['feat_only', name] = accuracy"
   ]
  },
  {
   "cell_type": "code",
   "execution_count": null,
   "metadata": {},
   "outputs": [],
   "source": [
    "models = {'Logistic Regression': lr, 'Random Forest Classifier':rfc}\n",
    "for name, clf in models.items():\n",
    "    clf.fit(X_train_tfidf, train_df['label'])\n",
    "    y_pred = clf.predict(X_dev_tfidf)\n",
    "    accuracy = accuracy_score(dev_df['label'], y_pred)\n",
    "    print(\"Accuracy of %s:\"%(clf), accuracy)\n",
    "    acc_df.loc['Tfidf', name] = accuracy"
   ]
  },
  {
   "cell_type": "code",
   "execution_count": null,
   "metadata": {},
   "outputs": [],
   "source": [
    "for name, clf in models.items():\n",
    "    clf.fit(X_train_count, train_df['label'])\n",
    "    y_pred = clf.predict(X_dev_count)\n",
    "    accuracy = accuracy_score(dev_df['label'], y_pred)\n",
    "    print(\"Accuracy of %s:\"%(clf), accuracy)\n",
    "    acc_df.loc['Count', name] = accuracy"
   ]
  },
  {
   "cell_type": "code",
   "execution_count": null,
   "metadata": {},
   "outputs": [],
   "source": [
    "cols = ['dale','word_per_sent', 'char_len', 'conc', 'unknown_words',\n",
    "       'high_aoa', 'num_commas', 'avg_syllable', 'syllable_more_than_3', 'CC',\n",
    "       'CD', 'NNS', 'VBP', 'NN', 'RB', 'MD', 'VB', 'VBZ', 'VBD', 'VBG', 'IN',\n",
    "       'JJ', 'FW', 'WDT', 'RBR', 'PRP$', 'VBN', 'PRP', 'DT', 'JJS', 'RP',\n",
    "       'JJR', 'WRB', 'WP', 'NNP', 'WP$', 'PDT', 'RBS', \"''\", 'NNPS', 'SYM',\n",
    "       'EX', 'TO', 'UH', 'syllable_1', 'syllable_2', 'syllable_3']\n",
    "\n",
    "dummy = DummyClassifier()\n",
    "lr = LogisticRegression(max_iter = 5000)\n",
    "svc = make_pipeline(StandardScaler(), SVC(kernel = 'linear', gamma = 'auto'))\n",
    "rfc = RandomForestClassifier()\n",
    "\n",
    "models = {'Logistic Regression': lr, 'Support Vecter Machine':svc, 'Random Forest Classifier':rfc}\n",
    "\n",
    "for name, clf in models.items():\n",
    "    clf.fit(train_df[cols], train_df['label'])\n",
    "    y_pred = clf.predict(dev_df[cols])\n",
    "    accuracy = accuracy_score(dev_df['label'], y_pred)\n",
    "    print(\"Accuracy of %s:\"%(name), accuracy)\n",
    "    "
   ]
  },
  {
   "cell_type": "code",
   "execution_count": 20,
   "metadata": {},
   "outputs": [
    {
     "name": "stdout",
     "output_type": "stream",
     "text": [
      "Accuracy of LogisticRegression(max_iter=5000): 0.684502243443626\n",
      "Accuracy of RandomForestClassifier(): 0.7070566499508122\n"
     ]
    }
   ],
   "source": [
    "for clf in models:\n",
    "    clf.fit(X_train_count, train_df['label'])\n",
    "    y_pred = clf.predict(X_dev_count)\n",
    "    accuracy = accuracy_score(dev_df['label'], y_pred)\n",
    "    print(\"Accuracy of %s:\"%(clf), accuracy)\n",
    "    acc.append(accuracy)"
   ]
  },
  {
   "cell_type": "code",
   "execution_count": 21,
   "metadata": {},
   "outputs": [
    {
     "name": "stdout",
     "output_type": "stream",
     "text": [
      "Accuracy of RandomForestClassifier(): 0.6344506562372532\n"
     ]
    }
   ],
   "source": [
    "svc1 =\n",
    "svc1.fit(X_train_tfidf, train_df['label'])\n",
    "y_pred = svc1.predict(X_dev_tfidf)\n",
    "accuracy = accuracy_score(dev_df['label'], y_pred)\n",
    "print(\"Accuracy of %s:\"%(svc1), accuracy)"
   ]
  },
  {
   "cell_type": "code",
   "execution_count": 22,
   "metadata": {},
   "outputs": [
    {
     "name": "stdout",
     "output_type": "stream",
     "text": [
      "Accuracy of RandomForestClassifier(): 0.7070566499508122\n"
     ]
    }
   ],
   "source": [
    "svc.fit(X_train_count, train_df['label'])\n",
    "y_pred = svc.predict(X_dev_count)\n",
    "accuracy = accuracy_score(dev_df['label'], y_pred)\n",
    "print(\"Accuracy of %s:\"%(svc), accuracy)"
   ]
  },
  {
   "cell_type": "code",
   "execution_count": null,
   "metadata": {},
   "outputs": [],
   "source": [
    "accuracy_df = pd.DataFrame(index = ['tfidf', 'count', 'feat_only'], \n",
    "                           columns = ['dummy', 'logistic','random_forest'])\n",
    "\n",
    "accuracy_df['dummy'] = [0.49888427669937857]*3\n",
    "accuracy_df['logistic'] = [0.6981668546200542, 0.684502243443626, 0.6441802432996617]\n",
    "accuracy_df['random_forest'] = [0.7112076205101135, 0.7070566499508122, 0.687081603762267]\n"
   ]
  },
  {
   "cell_type": "code",
   "execution_count": null,
   "metadata": {},
   "outputs": [],
   "source": [
    "accuracy_df"
   ]
  },
  {
   "cell_type": "code",
   "execution_count": 93,
   "metadata": {},
   "outputs": [
    {
     "data": {
      "text/plain": [
       "StandardScaler(with_mean=False)"
      ]
     },
     "execution_count": 93,
     "metadata": {},
     "output_type": "execute_result"
    }
   ],
   "source": [
    "scaler = StandardScaler(with_mean = False)\n",
    "scaler.fit(X_train_tfidf)"
   ]
  },
  {
   "cell_type": "code",
   "execution_count": 107,
   "metadata": {},
   "outputs": [],
   "source": [
    "X_nn = scaler.transform(X_train_tfidf)\n",
    "X_nn_dev = scaler.transform(X_dev_tfidf)"
   ]
  },
  {
   "cell_type": "code",
   "execution_count": 110,
   "metadata": {},
   "outputs": [
    {
     "data": {
      "text/plain": [
       "MLPClassifier(hidden_layer_sizes=(30, 30, 30))"
      ]
     },
     "execution_count": 110,
     "metadata": {},
     "output_type": "execute_result"
    }
   ],
   "source": [
    "mlp = MLPClassifier(hidden_layer_sizes=(30,30,30))\n",
    "mlp.fit(X_nn, y_train)"
   ]
  },
  {
   "cell_type": "code",
   "execution_count": 111,
   "metadata": {},
   "outputs": [
    {
     "data": {
      "text/plain": [
       "0.6453319576744967"
      ]
     },
     "execution_count": 111,
     "metadata": {},
     "output_type": "execute_result"
    }
   ],
   "source": [
    "pred_nn = mlp.predict(X_nn_dev)\n",
    "accuracy_score(pred_nn, y_dev)"
   ]
  },
  {
   "cell_type": "markdown",
   "metadata": {},
   "source": [
    "### Train the entire data"
   ]
  },
  {
   "cell_type": "code",
   "execution_count": 57,
   "metadata": {},
   "outputs": [],
   "source": [
    "train = pd.read_csv('data/WikiLarge_Train.csv')\n",
    "test = pd.read_csv('data/WikiLarge_Test.csv')"
   ]
  },
  {
   "cell_type": "code",
   "execution_count": 59,
   "metadata": {},
   "outputs": [],
   "source": [
    "entire_train_df = get_features(train)\n",
    "test_df = get_features(test)"
   ]
  },
  {
   "cell_type": "code",
   "execution_count": 61,
   "metadata": {},
   "outputs": [],
   "source": [
    "tfidf = TfidfVectorizer()\n",
    "tfidf_text = tfidf.fit_transform(entire_train_df['original_text'])\n",
    "test_tfidf_text = tfidf.transform(test_df['original_text'])"
   ]
  },
  {
   "cell_type": "code",
   "execution_count": 62,
   "metadata": {},
   "outputs": [],
   "source": [
    "X = stack(entire_train_df, tfidf_text)\n",
    "y = entire_train_df['label']\n",
    "\n",
    "X_test = stack(test_df, test_tfidf_text)\n",
    "y_test = test_df['label']"
   ]
  },
  {
   "cell_type": "code",
   "execution_count": 63,
   "metadata": {},
   "outputs": [
    {
     "data": {
      "text/plain": [
       "array([0, 0, 0, ..., 0, 0, 0])"
      ]
     },
     "execution_count": 63,
     "metadata": {},
     "output_type": "execute_result"
    }
   ],
   "source": [
    "clf = RandomForestClassifier(n_estimators = 500)\n",
    "clf.fit(X, y)\n",
    "y_pred_kaggle = clf.predict(X_test)\n",
    "y_pred_kaggle"
   ]
  },
  {
   "cell_type": "code",
   "execution_count": 69,
   "metadata": {},
   "outputs": [],
   "source": [
    "kaggle_1 = pd.DataFrame(y_pred_kaggle).rename(columns = {0:'label'})\n",
    "kaggle_1.index.names = ['id']\n",
    "kaggle_1\n",
    "kaggle_1.to_csv('kaggle_tfidf.csv')"
   ]
  },
  {
   "cell_type": "code",
   "execution_count": 24,
   "metadata": {},
   "outputs": [],
   "source": [
    "entire_train_df = pd.read_csv('entire_train_df.csv')\n",
    "test_df = pd.read_csv('kaggle_test_df.csv')"
   ]
  },
  {
   "cell_type": "code",
   "execution_count": 6,
   "metadata": {},
   "outputs": [],
   "source": [
    "#entire_train_df.dtypes"
   ]
  },
  {
   "cell_type": "code",
   "execution_count": null,
   "metadata": {},
   "outputs": [],
   "source": [
    "cols = ['dale','word_per_sent', 'char_len', 'conc', 'unknown_words',\n",
    "       'high_aoa', 'num_commas', 'avg_syllable', 'syllable_more_than_3', 'CC',\n",
    "       'CD', 'NNS', 'VBP', 'NN', 'RB', 'MD', 'VB', 'VBZ', 'VBD', 'VBG', 'IN',\n",
    "       'JJ', 'FW', 'WDT', 'RBR', 'PRP$', 'VBN', 'PRP', 'DT', 'JJS', 'RP',\n",
    "       'JJR', 'WRB', 'WP', 'NNP', 'WP$', 'PDT', 'RBS', \"''\", 'NNPS', 'SYM',\n",
    "       'EX', 'TO', 'UH', 'syllable_1', 'syllable_2', 'syllable_3']\n",
    "rfc = RandomForestClassifier(n_estimators = 500)\n",
    "rfc.fit(entire_train_df[cols], entire_train_df['label'])\n",
    "y_pred_kaggle_2 = rfc.predict(test_df[cols])"
   ]
  },
  {
   "cell_type": "code",
   "execution_count": 8,
   "metadata": {},
   "outputs": [],
   "source": [
    "entire_train_df['num_commas'] = entire_train_df['original_text'].str.count(',')\n",
    "test_df['num_commas'] = test_df['original_text'].str.count(',')"
   ]
  },
  {
   "cell_type": "code",
   "execution_count": 6,
   "metadata": {},
   "outputs": [
    {
     "data": {
      "text/html": [
       "<div>\n",
       "<style scoped>\n",
       "    .dataframe tbody tr th:only-of-type {\n",
       "        vertical-align: middle;\n",
       "    }\n",
       "\n",
       "    .dataframe tbody tr th {\n",
       "        vertical-align: top;\n",
       "    }\n",
       "\n",
       "    .dataframe thead th {\n",
       "        text-align: right;\n",
       "    }\n",
       "</style>\n",
       "<table border=\"1\" class=\"dataframe\">\n",
       "  <thead>\n",
       "    <tr style=\"text-align: right;\">\n",
       "      <th></th>\n",
       "      <th>Unnamed: 0</th>\n",
       "      <th>original_text</th>\n",
       "      <th>label</th>\n",
       "      <th>words</th>\n",
       "      <th>word_count</th>\n",
       "      <th>word_punct</th>\n",
       "      <th>sent_tokens</th>\n",
       "      <th>clean_word_punct</th>\n",
       "      <th>clean_words</th>\n",
       "      <th>dale</th>\n",
       "      <th>...</th>\n",
       "      <th>NNP</th>\n",
       "      <th>WP$</th>\n",
       "      <th>PDT</th>\n",
       "      <th>RBS</th>\n",
       "      <th>''</th>\n",
       "      <th>NNPS</th>\n",
       "      <th>SYM</th>\n",
       "      <th>EX</th>\n",
       "      <th>TO</th>\n",
       "      <th>UH</th>\n",
       "    </tr>\n",
       "  </thead>\n",
       "  <tbody>\n",
       "    <tr>\n",
       "      <th>0</th>\n",
       "      <td>0</td>\n",
       "      <td>There is manuscript evidence that Austen conti...</td>\n",
       "      <td>1</td>\n",
       "      <td>['There', 'is', 'manuscript', 'evidence', 'tha...</td>\n",
       "      <td>43</td>\n",
       "      <td>['There', 'is', 'manuscript', 'evidence', 'tha...</td>\n",
       "      <td>[\"There is manuscript evidence that Austen con...</td>\n",
       "      <td>['There', 'manuscript', 'evidence', 'Austen', ...</td>\n",
       "      <td>['There', 'manuscript', 'evidence', 'Austen', ...</td>\n",
       "      <td>0.393939</td>\n",
       "      <td>...</td>\n",
       "      <td>4.0</td>\n",
       "      <td>0.0</td>\n",
       "      <td>0.0</td>\n",
       "      <td>0.0</td>\n",
       "      <td>1.0</td>\n",
       "      <td>0.0</td>\n",
       "      <td>0.0</td>\n",
       "      <td>1.0</td>\n",
       "      <td>0.0</td>\n",
       "      <td>0.0</td>\n",
       "    </tr>\n",
       "    <tr>\n",
       "      <th>1</th>\n",
       "      <td>1</td>\n",
       "      <td>In a remarkable comparative analysis , Mandaea...</td>\n",
       "      <td>1</td>\n",
       "      <td>['In', 'a', 'remarkable', 'comparative', 'anal...</td>\n",
       "      <td>23</td>\n",
       "      <td>['In', 'a', 'remarkable', 'comparative', 'anal...</td>\n",
       "      <td>[\"In a remarkable comparative analysis , Manda...</td>\n",
       "      <td>['In', 'remarkable', 'comparative', 'analysis'...</td>\n",
       "      <td>['In', 'remarkable', 'comparative', 'analysis'...</td>\n",
       "      <td>0.200000</td>\n",
       "      <td>...</td>\n",
       "      <td>6.0</td>\n",
       "      <td>0.0</td>\n",
       "      <td>0.0</td>\n",
       "      <td>0.0</td>\n",
       "      <td>0.0</td>\n",
       "      <td>0.0</td>\n",
       "      <td>0.0</td>\n",
       "      <td>0.0</td>\n",
       "      <td>0.0</td>\n",
       "      <td>0.0</td>\n",
       "    </tr>\n",
       "    <tr>\n",
       "      <th>2</th>\n",
       "      <td>2</td>\n",
       "      <td>Before Persephone was released to Hermes , who...</td>\n",
       "      <td>1</td>\n",
       "      <td>['Before', 'Persephone', 'was', 'released', 't...</td>\n",
       "      <td>46</td>\n",
       "      <td>['Before', 'Persephone', 'was', 'released', 't...</td>\n",
       "      <td>['Before Persephone was released to Hermes , w...</td>\n",
       "      <td>['Before', 'Persephone', 'released', 'Hermes',...</td>\n",
       "      <td>['Before', 'Persephone', 'released', 'Hermes',...</td>\n",
       "      <td>0.473684</td>\n",
       "      <td>...</td>\n",
       "      <td>5.0</td>\n",
       "      <td>0.0</td>\n",
       "      <td>0.0</td>\n",
       "      <td>0.0</td>\n",
       "      <td>0.0</td>\n",
       "      <td>0.0</td>\n",
       "      <td>0.0</td>\n",
       "      <td>0.0</td>\n",
       "      <td>0.0</td>\n",
       "      <td>0.0</td>\n",
       "    </tr>\n",
       "    <tr>\n",
       "      <th>3</th>\n",
       "      <td>3</td>\n",
       "      <td>Cogeneration plants are commonly found in dist...</td>\n",
       "      <td>1</td>\n",
       "      <td>['Cogeneration', 'plants', 'are', 'commonly', ...</td>\n",
       "      <td>39</td>\n",
       "      <td>['Cogeneration', 'plants', 'are', 'commonly', ...</td>\n",
       "      <td>['Cogeneration plants are commonly found in di...</td>\n",
       "      <td>['Cogeneration', 'plants', 'commonly', 'found'...</td>\n",
       "      <td>['Cogeneration', 'plants', 'commonly', 'found'...</td>\n",
       "      <td>0.300000</td>\n",
       "      <td>...</td>\n",
       "      <td>0.0</td>\n",
       "      <td>0.0</td>\n",
       "      <td>0.0</td>\n",
       "      <td>0.0</td>\n",
       "      <td>0.0</td>\n",
       "      <td>0.0</td>\n",
       "      <td>0.0</td>\n",
       "      <td>0.0</td>\n",
       "      <td>0.0</td>\n",
       "      <td>0.0</td>\n",
       "    </tr>\n",
       "    <tr>\n",
       "      <th>4</th>\n",
       "      <td>4</td>\n",
       "      <td>Geneva -LRB- , ; , ; , ; ; -RRB- is the second...</td>\n",
       "      <td>1</td>\n",
       "      <td>['Geneva', '-LRB-', ',', ';', ',', ';', ',', '...</td>\n",
       "      <td>36</td>\n",
       "      <td>['Geneva', '-', 'LRB', '-', ',', ';', ',', ';'...</td>\n",
       "      <td>['Geneva -LRB- , ; , ; , ; ; -RRB- is the seco...</td>\n",
       "      <td>['Geneva', 'LRB', 'RRB', 'second', 'populous',...</td>\n",
       "      <td>['Geneva', '-LRB-', '-RRB-', 'second-most-popu...</td>\n",
       "      <td>0.478261</td>\n",
       "      <td>...</td>\n",
       "      <td>7.0</td>\n",
       "      <td>0.0</td>\n",
       "      <td>0.0</td>\n",
       "      <td>0.0</td>\n",
       "      <td>0.0</td>\n",
       "      <td>0.0</td>\n",
       "      <td>0.0</td>\n",
       "      <td>0.0</td>\n",
       "      <td>0.0</td>\n",
       "      <td>0.0</td>\n",
       "    </tr>\n",
       "    <tr>\n",
       "      <th>...</th>\n",
       "      <td>...</td>\n",
       "      <td>...</td>\n",
       "      <td>...</td>\n",
       "      <td>...</td>\n",
       "      <td>...</td>\n",
       "      <td>...</td>\n",
       "      <td>...</td>\n",
       "      <td>...</td>\n",
       "      <td>...</td>\n",
       "      <td>...</td>\n",
       "      <td>...</td>\n",
       "      <td>...</td>\n",
       "      <td>...</td>\n",
       "      <td>...</td>\n",
       "      <td>...</td>\n",
       "      <td>...</td>\n",
       "      <td>...</td>\n",
       "      <td>...</td>\n",
       "      <td>...</td>\n",
       "      <td>...</td>\n",
       "      <td>...</td>\n",
       "    </tr>\n",
       "    <tr>\n",
       "      <th>416763</th>\n",
       "      <td>416763</td>\n",
       "      <td>A Duke Nukem 3D version has been sold for Xbox...</td>\n",
       "      <td>0</td>\n",
       "      <td>['A', 'Duke', 'Nukem', '3D', 'version', 'has',...</td>\n",
       "      <td>17</td>\n",
       "      <td>['A', 'Duke', 'Nukem', '3D', 'version', 'has',...</td>\n",
       "      <td>['A Duke Nukem 3D version has been sold for Xb...</td>\n",
       "      <td>['A', 'Duke', 'Nukem', '3D', 'version', 'sold'...</td>\n",
       "      <td>['A', 'Duke', 'Nukem', '3D', 'version', 'sold'...</td>\n",
       "      <td>0.352941</td>\n",
       "      <td>...</td>\n",
       "      <td>5.0</td>\n",
       "      <td>0.0</td>\n",
       "      <td>0.0</td>\n",
       "      <td>0.0</td>\n",
       "      <td>0.0</td>\n",
       "      <td>0.0</td>\n",
       "      <td>0.0</td>\n",
       "      <td>0.0</td>\n",
       "      <td>0.0</td>\n",
       "      <td>0.0</td>\n",
       "    </tr>\n",
       "    <tr>\n",
       "      <th>416764</th>\n",
       "      <td>416764</td>\n",
       "      <td>However , it is becoming replaced as a method ...</td>\n",
       "      <td>0</td>\n",
       "      <td>['However', ',', 'it', 'is', 'becoming', 'repl...</td>\n",
       "      <td>20</td>\n",
       "      <td>['However', ',', 'it', 'is', 'becoming', 'repl...</td>\n",
       "      <td>['However , it is becoming replaced as a metho...</td>\n",
       "      <td>['However', 'becoming', 'replaced', 'method', ...</td>\n",
       "      <td>['However', 'becoming', 'replaced', 'method', ...</td>\n",
       "      <td>0.550000</td>\n",
       "      <td>...</td>\n",
       "      <td>1.0</td>\n",
       "      <td>0.0</td>\n",
       "      <td>0.0</td>\n",
       "      <td>0.0</td>\n",
       "      <td>0.0</td>\n",
       "      <td>1.0</td>\n",
       "      <td>0.0</td>\n",
       "      <td>0.0</td>\n",
       "      <td>0.0</td>\n",
       "      <td>0.0</td>\n",
       "    </tr>\n",
       "    <tr>\n",
       "      <th>416765</th>\n",
       "      <td>416765</td>\n",
       "      <td>There are hand gestures in both Hindu and Budd...</td>\n",
       "      <td>0</td>\n",
       "      <td>['There', 'are', 'hand', 'gestures', 'in', 'bo...</td>\n",
       "      <td>11</td>\n",
       "      <td>['There', 'are', 'hand', 'gestures', 'in', 'bo...</td>\n",
       "      <td>['There are hand gestures in both Hindu and Bu...</td>\n",
       "      <td>['There', 'hand', 'gestures', 'Hindu', 'Buddhi...</td>\n",
       "      <td>['There', 'hand', 'gestures', 'Hindu', 'Buddhi...</td>\n",
       "      <td>0.454545</td>\n",
       "      <td>...</td>\n",
       "      <td>2.0</td>\n",
       "      <td>0.0</td>\n",
       "      <td>0.0</td>\n",
       "      <td>0.0</td>\n",
       "      <td>0.0</td>\n",
       "      <td>0.0</td>\n",
       "      <td>0.0</td>\n",
       "      <td>1.0</td>\n",
       "      <td>0.0</td>\n",
       "      <td>0.0</td>\n",
       "    </tr>\n",
       "    <tr>\n",
       "      <th>416766</th>\n",
       "      <td>416766</td>\n",
       "      <td>If it is necessary to use colors , try to choo...</td>\n",
       "      <td>0</td>\n",
       "      <td>['If', 'it', 'is', 'necessary', 'to', 'use', '...</td>\n",
       "      <td>42</td>\n",
       "      <td>['If', 'it', 'is', 'necessary', 'to', 'use', '...</td>\n",
       "      <td>['If it is necessary to use colors , try to ch...</td>\n",
       "      <td>['If', 'necessary', 'use', 'colors', 'try', 'c...</td>\n",
       "      <td>['If', 'necessary', 'use', 'colors', 'try', 'c...</td>\n",
       "      <td>0.594595</td>\n",
       "      <td>...</td>\n",
       "      <td>3.0</td>\n",
       "      <td>0.0</td>\n",
       "      <td>0.0</td>\n",
       "      <td>0.0</td>\n",
       "      <td>0.0</td>\n",
       "      <td>0.0</td>\n",
       "      <td>0.0</td>\n",
       "      <td>0.0</td>\n",
       "      <td>0.0</td>\n",
       "      <td>0.0</td>\n",
       "    </tr>\n",
       "    <tr>\n",
       "      <th>416767</th>\n",
       "      <td>416767</td>\n",
       "      <td>Calgary Stampeders ,</td>\n",
       "      <td>0</td>\n",
       "      <td>['Calgary', 'Stampeders', ',']</td>\n",
       "      <td>3</td>\n",
       "      <td>['Calgary', 'Stampeders', ',']</td>\n",
       "      <td>['Calgary Stampeders ,']</td>\n",
       "      <td>['Calgary', 'Stampeders']</td>\n",
       "      <td>['Calgary', 'Stampeders']</td>\n",
       "      <td>0.000000</td>\n",
       "      <td>...</td>\n",
       "      <td>0.0</td>\n",
       "      <td>0.0</td>\n",
       "      <td>0.0</td>\n",
       "      <td>0.0</td>\n",
       "      <td>0.0</td>\n",
       "      <td>0.0</td>\n",
       "      <td>0.0</td>\n",
       "      <td>0.0</td>\n",
       "      <td>0.0</td>\n",
       "      <td>0.0</td>\n",
       "    </tr>\n",
       "  </tbody>\n",
       "</table>\n",
       "<p>416768 rows × 57 columns</p>\n",
       "</div>"
      ],
      "text/plain": [
       "        Unnamed: 0                                      original_text  label  \\\n",
       "0                0  There is manuscript evidence that Austen conti...      1   \n",
       "1                1  In a remarkable comparative analysis , Mandaea...      1   \n",
       "2                2  Before Persephone was released to Hermes , who...      1   \n",
       "3                3  Cogeneration plants are commonly found in dist...      1   \n",
       "4                4  Geneva -LRB- , ; , ; , ; ; -RRB- is the second...      1   \n",
       "...            ...                                                ...    ...   \n",
       "416763      416763  A Duke Nukem 3D version has been sold for Xbox...      0   \n",
       "416764      416764  However , it is becoming replaced as a method ...      0   \n",
       "416765      416765  There are hand gestures in both Hindu and Budd...      0   \n",
       "416766      416766  If it is necessary to use colors , try to choo...      0   \n",
       "416767      416767                               Calgary Stampeders ,      0   \n",
       "\n",
       "                                                    words  word_count  \\\n",
       "0       ['There', 'is', 'manuscript', 'evidence', 'tha...          43   \n",
       "1       ['In', 'a', 'remarkable', 'comparative', 'anal...          23   \n",
       "2       ['Before', 'Persephone', 'was', 'released', 't...          46   \n",
       "3       ['Cogeneration', 'plants', 'are', 'commonly', ...          39   \n",
       "4       ['Geneva', '-LRB-', ',', ';', ',', ';', ',', '...          36   \n",
       "...                                                   ...         ...   \n",
       "416763  ['A', 'Duke', 'Nukem', '3D', 'version', 'has',...          17   \n",
       "416764  ['However', ',', 'it', 'is', 'becoming', 'repl...          20   \n",
       "416765  ['There', 'are', 'hand', 'gestures', 'in', 'bo...          11   \n",
       "416766  ['If', 'it', 'is', 'necessary', 'to', 'use', '...          42   \n",
       "416767                     ['Calgary', 'Stampeders', ',']           3   \n",
       "\n",
       "                                               word_punct  \\\n",
       "0       ['There', 'is', 'manuscript', 'evidence', 'tha...   \n",
       "1       ['In', 'a', 'remarkable', 'comparative', 'anal...   \n",
       "2       ['Before', 'Persephone', 'was', 'released', 't...   \n",
       "3       ['Cogeneration', 'plants', 'are', 'commonly', ...   \n",
       "4       ['Geneva', '-', 'LRB', '-', ',', ';', ',', ';'...   \n",
       "...                                                   ...   \n",
       "416763  ['A', 'Duke', 'Nukem', '3D', 'version', 'has',...   \n",
       "416764  ['However', ',', 'it', 'is', 'becoming', 'repl...   \n",
       "416765  ['There', 'are', 'hand', 'gestures', 'in', 'bo...   \n",
       "416766  ['If', 'it', 'is', 'necessary', 'to', 'use', '...   \n",
       "416767                     ['Calgary', 'Stampeders', ',']   \n",
       "\n",
       "                                              sent_tokens  \\\n",
       "0       [\"There is manuscript evidence that Austen con...   \n",
       "1       [\"In a remarkable comparative analysis , Manda...   \n",
       "2       ['Before Persephone was released to Hermes , w...   \n",
       "3       ['Cogeneration plants are commonly found in di...   \n",
       "4       ['Geneva -LRB- , ; , ; , ; ; -RRB- is the seco...   \n",
       "...                                                   ...   \n",
       "416763  ['A Duke Nukem 3D version has been sold for Xb...   \n",
       "416764  ['However , it is becoming replaced as a metho...   \n",
       "416765  ['There are hand gestures in both Hindu and Bu...   \n",
       "416766  ['If it is necessary to use colors , try to ch...   \n",
       "416767                           ['Calgary Stampeders ,']   \n",
       "\n",
       "                                         clean_word_punct  \\\n",
       "0       ['There', 'manuscript', 'evidence', 'Austen', ...   \n",
       "1       ['In', 'remarkable', 'comparative', 'analysis'...   \n",
       "2       ['Before', 'Persephone', 'released', 'Hermes',...   \n",
       "3       ['Cogeneration', 'plants', 'commonly', 'found'...   \n",
       "4       ['Geneva', 'LRB', 'RRB', 'second', 'populous',...   \n",
       "...                                                   ...   \n",
       "416763  ['A', 'Duke', 'Nukem', '3D', 'version', 'sold'...   \n",
       "416764  ['However', 'becoming', 'replaced', 'method', ...   \n",
       "416765  ['There', 'hand', 'gestures', 'Hindu', 'Buddhi...   \n",
       "416766  ['If', 'necessary', 'use', 'colors', 'try', 'c...   \n",
       "416767                          ['Calgary', 'Stampeders']   \n",
       "\n",
       "                                              clean_words      dale  ...  NNP  \\\n",
       "0       ['There', 'manuscript', 'evidence', 'Austen', ...  0.393939  ...  4.0   \n",
       "1       ['In', 'remarkable', 'comparative', 'analysis'...  0.200000  ...  6.0   \n",
       "2       ['Before', 'Persephone', 'released', 'Hermes',...  0.473684  ...  5.0   \n",
       "3       ['Cogeneration', 'plants', 'commonly', 'found'...  0.300000  ...  0.0   \n",
       "4       ['Geneva', '-LRB-', '-RRB-', 'second-most-popu...  0.478261  ...  7.0   \n",
       "...                                                   ...       ...  ...  ...   \n",
       "416763  ['A', 'Duke', 'Nukem', '3D', 'version', 'sold'...  0.352941  ...  5.0   \n",
       "416764  ['However', 'becoming', 'replaced', 'method', ...  0.550000  ...  1.0   \n",
       "416765  ['There', 'hand', 'gestures', 'Hindu', 'Buddhi...  0.454545  ...  2.0   \n",
       "416766  ['If', 'necessary', 'use', 'colors', 'try', 'c...  0.594595  ...  3.0   \n",
       "416767                          ['Calgary', 'Stampeders']  0.000000  ...  0.0   \n",
       "\n",
       "        WP$  PDT  RBS   ''  NNPS  SYM   EX   TO   UH  \n",
       "0       0.0  0.0  0.0  1.0   0.0  0.0  1.0  0.0  0.0  \n",
       "1       0.0  0.0  0.0  0.0   0.0  0.0  0.0  0.0  0.0  \n",
       "2       0.0  0.0  0.0  0.0   0.0  0.0  0.0  0.0  0.0  \n",
       "3       0.0  0.0  0.0  0.0   0.0  0.0  0.0  0.0  0.0  \n",
       "4       0.0  0.0  0.0  0.0   0.0  0.0  0.0  0.0  0.0  \n",
       "...     ...  ...  ...  ...   ...  ...  ...  ...  ...  \n",
       "416763  0.0  0.0  0.0  0.0   0.0  0.0  0.0  0.0  0.0  \n",
       "416764  0.0  0.0  0.0  0.0   1.0  0.0  0.0  0.0  0.0  \n",
       "416765  0.0  0.0  0.0  0.0   0.0  0.0  1.0  0.0  0.0  \n",
       "416766  0.0  0.0  0.0  0.0   0.0  0.0  0.0  0.0  0.0  \n",
       "416767  0.0  0.0  0.0  0.0   0.0  0.0  0.0  0.0  0.0  \n",
       "\n",
       "[416768 rows x 57 columns]"
      ]
     },
     "execution_count": 6,
     "metadata": {},
     "output_type": "execute_result"
    }
   ],
   "source": [
    "cols = ['dale','word_per_sent', 'char_len', 'conc', 'unknown_words',\n",
    "       'high_aoa', 'num_commas', 'avg_syllable', 'syllable_more_than_3', 'CC',\n",
    "       'CD', 'NNS', 'VBP', 'NN', 'RB', 'MD', 'VB', 'VBZ', 'VBD', 'VBG', 'IN',\n",
    "       'JJ', 'FW', 'WDT', 'RBR', 'PRP$', 'VBN', 'PRP', 'DT', 'JJS', 'RP',\n",
    "       'JJR', 'WRB', 'WP', 'NNP', 'WP$', 'PDT', 'RBS', \"''\", 'NNPS', 'SYM',\n",
    "       'EX', 'TO', 'UH', 'syllable_1', 'syllable_2', 'syllable_3']\n",
    "rfc = RandomForestClassifier(n_estimators = 500)\n",
    "rfc.fit(entire_train_df[cols], entire_train_df['label'])\n",
    "y_pred_kaggle_2 = rfc.predict(test_df[cols])"
   ]
  },
  {
   "cell_type": "code",
   "execution_count": 25,
   "metadata": {},
   "outputs": [],
   "source": [
    "entire_train_df = entire_train_df.drop('Unnamed: 0', axis = 1)"
   ]
  },
  {
   "cell_type": "code",
   "execution_count": 19,
   "metadata": {},
   "outputs": [],
   "source": [
    "label = pd.DataFrame(entire_train_df.corr()['label'].sort_values()[:-2])"
   ]
  },
  {
   "cell_type": "code",
   "execution_count": 20,
   "metadata": {},
   "outputs": [
    {
     "data": {
      "text/html": [
       "<div>\n",
       "<style scoped>\n",
       "    .dataframe tbody tr th:only-of-type {\n",
       "        vertical-align: middle;\n",
       "    }\n",
       "\n",
       "    .dataframe tbody tr th {\n",
       "        vertical-align: top;\n",
       "    }\n",
       "\n",
       "    .dataframe thead th {\n",
       "        text-align: right;\n",
       "    }\n",
       "</style>\n",
       "<table border=\"1\" class=\"dataframe\">\n",
       "  <thead>\n",
       "    <tr style=\"text-align: right;\">\n",
       "      <th></th>\n",
       "      <th>label</th>\n",
       "    </tr>\n",
       "  </thead>\n",
       "  <tbody>\n",
       "    <tr>\n",
       "      <th>syllable_1</th>\n",
       "      <td>-9.249862e-02</td>\n",
       "    </tr>\n",
       "    <tr>\n",
       "      <th>PRP</th>\n",
       "      <td>-9.140386e-02</td>\n",
       "    </tr>\n",
       "    <tr>\n",
       "      <th>syllable_more_than_3</th>\n",
       "      <td>-3.333250e-02</td>\n",
       "    </tr>\n",
       "    <tr>\n",
       "      <th>EX</th>\n",
       "      <td>-2.031747e-02</td>\n",
       "    </tr>\n",
       "    <tr>\n",
       "      <th>syllable_2</th>\n",
       "      <td>-1.618728e-02</td>\n",
       "    </tr>\n",
       "    <tr>\n",
       "      <th>WRB</th>\n",
       "      <td>-8.601483e-03</td>\n",
       "    </tr>\n",
       "    <tr>\n",
       "      <th>char_len</th>\n",
       "      <td>-7.739955e-03</td>\n",
       "    </tr>\n",
       "    <tr>\n",
       "      <th>SYM</th>\n",
       "      <td>-3.709420e-04</td>\n",
       "    </tr>\n",
       "    <tr>\n",
       "      <th>WDT</th>\n",
       "      <td>-1.440740e-15</td>\n",
       "    </tr>\n",
       "    <tr>\n",
       "      <th>UH</th>\n",
       "      <td>1.742924e-04</td>\n",
       "    </tr>\n",
       "    <tr>\n",
       "      <th>syllable_3</th>\n",
       "      <td>1.215453e-03</td>\n",
       "    </tr>\n",
       "    <tr>\n",
       "      <th>PRP$</th>\n",
       "      <td>1.234169e-03</td>\n",
       "    </tr>\n",
       "    <tr>\n",
       "      <th>TO</th>\n",
       "      <td>2.555670e-03</td>\n",
       "    </tr>\n",
       "    <tr>\n",
       "      <th>WP</th>\n",
       "      <td>3.156541e-03</td>\n",
       "    </tr>\n",
       "    <tr>\n",
       "      <th>PDT</th>\n",
       "      <td>3.212014e-03</td>\n",
       "    </tr>\n",
       "    <tr>\n",
       "      <th>RP</th>\n",
       "      <td>5.828106e-03</td>\n",
       "    </tr>\n",
       "    <tr>\n",
       "      <th>CC</th>\n",
       "      <td>8.903135e-03</td>\n",
       "    </tr>\n",
       "    <tr>\n",
       "      <th>RBS</th>\n",
       "      <td>1.381181e-02</td>\n",
       "    </tr>\n",
       "    <tr>\n",
       "      <th>NNPS</th>\n",
       "      <td>1.627216e-02</td>\n",
       "    </tr>\n",
       "    <tr>\n",
       "      <th>RBR</th>\n",
       "      <td>1.765462e-02</td>\n",
       "    </tr>\n",
       "    <tr>\n",
       "      <th>JJS</th>\n",
       "      <td>1.924271e-02</td>\n",
       "    </tr>\n",
       "    <tr>\n",
       "      <th>FW</th>\n",
       "      <td>1.949881e-02</td>\n",
       "    </tr>\n",
       "    <tr>\n",
       "      <th>JJR</th>\n",
       "      <td>2.145253e-02</td>\n",
       "    </tr>\n",
       "    <tr>\n",
       "      <th>WP$</th>\n",
       "      <td>2.200654e-02</td>\n",
       "    </tr>\n",
       "    <tr>\n",
       "      <th>VB</th>\n",
       "      <td>2.343475e-02</td>\n",
       "    </tr>\n",
       "    <tr>\n",
       "      <th>dale</th>\n",
       "      <td>2.706904e-02</td>\n",
       "    </tr>\n",
       "    <tr>\n",
       "      <th>MD</th>\n",
       "      <td>2.729149e-02</td>\n",
       "    </tr>\n",
       "    <tr>\n",
       "      <th>DT</th>\n",
       "      <td>3.282805e-02</td>\n",
       "    </tr>\n",
       "    <tr>\n",
       "      <th>VBZ</th>\n",
       "      <td>4.820569e-02</td>\n",
       "    </tr>\n",
       "    <tr>\n",
       "      <th>unknown_words</th>\n",
       "      <td>4.859358e-02</td>\n",
       "    </tr>\n",
       "    <tr>\n",
       "      <th>''</th>\n",
       "      <td>5.302116e-02</td>\n",
       "    </tr>\n",
       "    <tr>\n",
       "      <th>VBP</th>\n",
       "      <td>5.759844e-02</td>\n",
       "    </tr>\n",
       "    <tr>\n",
       "      <th>CD</th>\n",
       "      <td>7.395350e-02</td>\n",
       "    </tr>\n",
       "    <tr>\n",
       "      <th>IN</th>\n",
       "      <td>7.466133e-02</td>\n",
       "    </tr>\n",
       "    <tr>\n",
       "      <th>conc</th>\n",
       "      <td>7.484191e-02</td>\n",
       "    </tr>\n",
       "    <tr>\n",
       "      <th>VBN</th>\n",
       "      <td>9.080640e-02</td>\n",
       "    </tr>\n",
       "    <tr>\n",
       "      <th>VBD</th>\n",
       "      <td>9.180958e-02</td>\n",
       "    </tr>\n",
       "    <tr>\n",
       "      <th>NNS</th>\n",
       "      <td>9.363902e-02</td>\n",
       "    </tr>\n",
       "    <tr>\n",
       "      <th>avg_syllable</th>\n",
       "      <td>9.649053e-02</td>\n",
       "    </tr>\n",
       "    <tr>\n",
       "      <th>high_aoa</th>\n",
       "      <td>1.072608e-01</td>\n",
       "    </tr>\n",
       "    <tr>\n",
       "      <th>VBG</th>\n",
       "      <td>1.118466e-01</td>\n",
       "    </tr>\n",
       "    <tr>\n",
       "      <th>RB</th>\n",
       "      <td>1.274010e-01</td>\n",
       "    </tr>\n",
       "    <tr>\n",
       "      <th>NNP</th>\n",
       "      <td>1.514605e-01</td>\n",
       "    </tr>\n",
       "    <tr>\n",
       "      <th>num_commas</th>\n",
       "      <td>1.909701e-01</td>\n",
       "    </tr>\n",
       "    <tr>\n",
       "      <th>JJ</th>\n",
       "      <td>1.921544e-01</td>\n",
       "    </tr>\n",
       "    <tr>\n",
       "      <th>NN</th>\n",
       "      <td>1.967876e-01</td>\n",
       "    </tr>\n",
       "    <tr>\n",
       "      <th>word_count</th>\n",
       "      <td>2.623611e-01</td>\n",
       "    </tr>\n",
       "  </tbody>\n",
       "</table>\n",
       "</div>"
      ],
      "text/plain": [
       "                             label\n",
       "syllable_1           -9.249862e-02\n",
       "PRP                  -9.140386e-02\n",
       "syllable_more_than_3 -3.333250e-02\n",
       "EX                   -2.031747e-02\n",
       "syllable_2           -1.618728e-02\n",
       "WRB                  -8.601483e-03\n",
       "char_len             -7.739955e-03\n",
       "SYM                  -3.709420e-04\n",
       "WDT                  -1.440740e-15\n",
       "UH                    1.742924e-04\n",
       "syllable_3            1.215453e-03\n",
       "PRP$                  1.234169e-03\n",
       "TO                    2.555670e-03\n",
       "WP                    3.156541e-03\n",
       "PDT                   3.212014e-03\n",
       "RP                    5.828106e-03\n",
       "CC                    8.903135e-03\n",
       "RBS                   1.381181e-02\n",
       "NNPS                  1.627216e-02\n",
       "RBR                   1.765462e-02\n",
       "JJS                   1.924271e-02\n",
       "FW                    1.949881e-02\n",
       "JJR                   2.145253e-02\n",
       "WP$                   2.200654e-02\n",
       "VB                    2.343475e-02\n",
       "dale                  2.706904e-02\n",
       "MD                    2.729149e-02\n",
       "DT                    3.282805e-02\n",
       "VBZ                   4.820569e-02\n",
       "unknown_words         4.859358e-02\n",
       "''                    5.302116e-02\n",
       "VBP                   5.759844e-02\n",
       "CD                    7.395350e-02\n",
       "IN                    7.466133e-02\n",
       "conc                  7.484191e-02\n",
       "VBN                   9.080640e-02\n",
       "VBD                   9.180958e-02\n",
       "NNS                   9.363902e-02\n",
       "avg_syllable          9.649053e-02\n",
       "high_aoa              1.072608e-01\n",
       "VBG                   1.118466e-01\n",
       "RB                    1.274010e-01\n",
       "NNP                   1.514605e-01\n",
       "num_commas            1.909701e-01\n",
       "JJ                    1.921544e-01\n",
       "NN                    1.967876e-01\n",
       "word_count            2.623611e-01"
      ]
     },
     "execution_count": 20,
     "metadata": {},
     "output_type": "execute_result"
    }
   ],
   "source": [
    "label"
   ]
  },
  {
   "cell_type": "code",
   "execution_count": 56,
   "metadata": {},
   "outputs": [
    {
     "name": "stderr",
     "output_type": "stream",
     "text": [
      "<ipython-input-56-1433ac2cad49>:6: UserWarning: FixedFormatter should only be used together with FixedLocator\n",
      "  ax.set_xticklabels(ax.get_xticks(), rotation = 45, fontsize = 12, ha = 'right')\n"
     ]
    },
    {
     "data": {
      "image/png": "[encoded data removed]",
      "text/plain": [
       "<Figure size 1080x360 with 1 Axes>"
      ]
     },
     "metadata": {
      "needs_background": "light"
     },
     "output_type": "display_data"
    }
   ],
   "source": [
    "import seaborn as sns\n",
    "plt.rcParams[\"font.family\"] = \"Times New Roman\"\n",
    "fig, ax = plt.subplots()\n",
    "fig.set_size_inches(15,5)\n",
    "ax.set_title(\"Correlation between features and label\", fontsize = 16)\n",
    "ax.set_xticklabels(ax.get_xticks(), rotation = 45, fontsize = 12, ha = 'right')\n",
    "sns.barplot(x = label.index, y = 'label', data = label)\n",
    "plt.ylabel(\" \")\n",
    "sns.despine()\n"
   ]
  },
  {
   "cell_type": "code",
   "execution_count": 68,
   "metadata": {},
   "outputs": [],
   "source": [
    "rfc_acc = pd.DataFrame(columns = ['n_estimators','Feature Only','Feature + Tfidf'],\n",
    "                       data = [[100, 0.7207812462509298, 0.7112076205101135], \n",
    "                               [300,  0.7227847493821532, 0.7169990275293242],\n",
    "                               [500,  0.72448832689493, 0.7183218561796675],\n",
    "                               [700,  0.7238524845838232,  0.7181538978333374]])\n"
   ]
  },
  {
   "cell_type": "code",
   "execution_count": 74,
   "metadata": {},
   "outputs": [],
   "source": [
    "rfc_melt = rfc_acc.melt('n_estimators')"
   ]
  },
  {
   "cell_type": "code",
   "execution_count": 118,
   "metadata": {},
   "outputs": [
    {
     "data": {
      "image/png": "[encoded data removed]",
      "text/plain": [
       "<Figure size 432x288 with 1 Axes>"
      ]
     },
     "metadata": {
      "needs_background": "light"
     },
     "output_type": "display_data"
    }
   ],
   "source": [
    "sns.pointplot(x='n_estimators', y = 'value', hue = 'variable', data = rfc_melt, palette = 'Set2')\n",
    "plt.title(\"Accuracy of Random Forest Classifier\", fontsize = 14)\n",
    "plt.ylabel(\"Accuracy\")\n",
    "plt.ylim([0.705, 0.73])\n",
    "plt.legend(title = \"\");\n"
   ]
  }
 ],
 "metadata": {
  "kernelspec": {
   "display_name": "Python 3",
   "language": "python",
   "name": "python3"
  },
  "language_info": {
   "codemirror_mode": {
    "name": "ipython",
    "version": 3
   },
   "file_extension": ".py",
   "mimetype": "text/x-python",
   "name": "python",
   "nbconvert_exporter": "python",
   "pygments_lexer": "ipython3",
   "version": "3.9.1"
  }
 },
 "nbformat": 4,
 "nbformat_minor": 4
}
